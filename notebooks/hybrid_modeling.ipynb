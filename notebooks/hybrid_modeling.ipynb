{
 "cells": [
  {
   "cell_type": "markdown",
   "metadata": {},
   "source": [
    "# Hybrid Modeling"
   ]
  },
  {
   "cell_type": "markdown",
   "metadata": {},
   "source": [
    "In this notebook, I attempt to combine collaborative filtering and content-based filtering models to generate a better recommendation system."
   ]
  },
  {
   "cell_type": "code",
   "execution_count": 1,
   "metadata": {},
   "outputs": [],
   "source": [
    "# Import necessary libraries and submodules\n",
    "import pandas as pd \n",
    "import numpy as np \n",
    "import matplotlib.pyplot as plt \n",
    "import seaborn as sns \n",
    "\n",
    "from surprise import Dataset, Reader\n",
    "from surprise import SVD # implementation of Funk's SVD (gradient descent-based matrix factorization)\n",
    "from surprise import accuracy # metric\n",
    "from surprise.model_selection import train_test_split, GridSearchCV #train/test splits, crossval\n",
    "from sklearn.preprocessing import MultiLabelBinarizer\n",
    "from sklearn.feature_extraction.text import TfidfVectorizer\n",
    "from sklearn.metrics.pairwise import cosine_similarity"
   ]
  },
  {
   "cell_type": "markdown",
   "metadata": {},
   "source": [
    "#### Load and prepare data"
   ]
  },
  {
   "cell_type": "code",
   "execution_count": 3,
   "metadata": {},
   "outputs": [],
   "source": [
    "# Load datasets\n",
    "ratings = pd.read_csv('../data/ratings.csv')\n",
    "movies = pd.read_csv('../data/movies.csv')\n",
    "tags = pd.read_csv('../data/tags.csv')\n",
    "\n",
    "# Fill missing values in genres and tags\n",
    "movies['genres'] = movies['genres'].fillna('')\n",
    "tags['tag'] = tags['tag'].fillna('')\n",
    "\n",
    "# Split genres into lists for one-hot encoding\n",
    "movies['genres_split'] = movies['genres'].str.split('|')\n",
    "\n",
    "# Map movieId to matrix indices\n",
    "movie_id_to_index = {movie_id: idx for idx, movie_id in enumerate(movies['movieId'])}\n",
    "index_to_movie_id = {idx: movie_id for movie_id, idx in movie_id_to_index.items()}"
   ]
  },
  {
   "cell_type": "markdown",
   "metadata": {},
   "source": [
    "#### Content-based feature engineering"
   ]
  },
  {
   "cell_type": "code",
   "execution_count": 4,
   "metadata": {},
   "outputs": [],
   "source": [
    "# One-hot encode genres\n",
    "mlb = MultiLabelBinarizer()\n",
    "genre_encoded = mlb.fit_transform(movies['genres_split'])\n",
    "genre_df = pd.DataFrame(genre_encoded, columns=mlb.classes_)\n",
    "\n",
    "# Vectorize tags using TF-IDF\n",
    "tag_vectorizer = TfidfVectorizer(max_features=500)\n",
    "tag_features = tag_vectorizer.fit_transform(tags['tag'])\n",
    "\n",
    "# Combine genres and tags\n",
    "content_features = pd.concat([pd.DataFrame(genre_encoded), pd.DataFrame(tag_features.toarray())], axis=1).fillna(0)\n",
    "\n",
    "# Compute cosine similarity matrix\n",
    "similarity_matrix = cosine_similarity(content_features)"
   ]
  },
  {
   "cell_type": "markdown",
   "metadata": {},
   "source": [
    "#### Collaborative filtering using SVD"
   ]
  },
  {
   "cell_type": "code",
   "execution_count": null,
   "metadata": {},
   "outputs": [
    {
     "data": {
      "text/plain": [
       "<surprise.prediction_algorithms.matrix_factorization.SVD at 0x156ee0350>"
      ]
     },
     "execution_count": 5,
     "metadata": {},
     "output_type": "execute_result"
    }
   ],
   "source": [
    "# Prepare data for Surprise\n",
    "reader = Reader(rating_scale=(0.5, 5.0))\n",
    "data = Dataset.load_from_df(ratings[['userId', 'movieId', 'rating']], reader)\n",
    "\n",
    "# Split into train and test sets\n",
    "trainset, testset = train_test_split(data, test_size=0.2, random_state=42)\n",
    "\n",
    "# Train SVD model\n",
    "svd_model = SVD()\n",
    "svd_model.fit(trainset)"
   ]
  },
  {
   "cell_type": "markdown",
   "metadata": {},
   "source": [
    "#### Hybrid recommender"
   ]
  },
  {
   "cell_type": "markdown",
   "metadata": {},
   "source": []
  },
  {
   "cell_type": "code",
   "execution_count": null,
   "metadata": {},
   "outputs": [],
   "source": [
    "# Function for getting hybrid recommendations\n",
    "def hybrid_recommendations(user_id, train_data, svd_model, similarity_matrix, movies, top_n=10, alpha=0.7):\n",
    "    \"\"\"\n",
    "    Generate hybrid recommendations using SVD (collaborative filtering) and content-based filtering.\n",
    "    \"\"\"\n",
    "    # Get all movies\n",
    "    all_movie_ids = movies['movieId'].tolist()\n",
    "\n",
    "    # Get movies the user has already rated\n",
    "    rated_movies = train_data[train_data['userId'] == user_id]['movieId'].tolist()\n",
    "\n",
    "    # Filter out rated movies\n",
    "    unrated_movies = [movie_id for movie_id in all_movie_ids if movie_id not in rated_movies]\n",
    "\n",
    "    recommendations = []\n",
    "    for movie_id in unrated_movies:\n",
    "        # Collaborative Filtering Score\n",
    "        cf_score = svd_model.predict(user_id, movie_id).est\n",
    "\n",
    "        # Content-Based Score\n",
    "        if rated_movies:\n",
    "            cb_score = np.mean(\n",
    "                [similarity_matrix[movie_id_to_index[movie_id], movie_id_to_index[other_movie_id]]\n",
    "                 for other_movie_id in rated_movies if other_movie_id in movie_id_to_index]\n",
    "            )\n",
    "        else:\n",
    "            cb_score = 0  # No content-based score if no rated movies\n",
    "\n",
    "        # Combine scores\n",
    "        hybrid_score = alpha * cf_score + (1 - alpha) * cb_score\n",
    "        recommendations.append((movie_id, hybrid_score))\n",
    "\n",
    "    # Sort recommendations by score\n",
    "    recommendations = sorted(recommendations, key=lambda x: x[1], reverse=True)[:top_n]\n",
    "\n",
    "    # Retrieve movie details\n",
    "    recommended_movie_ids = [rec[0] for rec in recommendations]\n",
    "    recommended_movies = movies[movies['movieId'].isin(recommended_movie_ids)].copy()\n",
    "    recommended_movies['score'] = [rec[1] for rec in recommendations]\n",
    "\n",
    "    return recommended_movies"
   ]
  },
  {
   "cell_type": "markdown",
   "metadata": {},
   "source": [
    "#### Generate recommendations"
   ]
  },
  {
   "cell_type": "code",
   "execution_count": null,
   "metadata": {},
   "outputs": [
    {
     "name": "stdout",
     "output_type": "stream",
     "text": [
      "                                                  title  \\\n",
      "690                           North by Northwest (1959)   \n",
      "903   Good, the Bad and the Ugly, The (Buono, il bru...   \n",
      "906                           Lawrence of Arabia (1962)   \n",
      "924     Grand Day Out with Wallace and Gromit, A (1989)   \n",
      "933                        Boot, Das (Boat, The) (1981)   \n",
      "960                  Evil Dead II (Dead by Dawn) (1987)   \n",
      "1494        Seven Samurai (Shichinin no samurai) (1954)   \n",
      "4176                City of God (Cidade de Deus) (2002)   \n",
      "7060                            Hurt Locker, The (2008)   \n",
      "7214                             Sherlock Holmes (2009)   \n",
      "\n",
      "                                          genres     score  \n",
      "690    Action|Adventure|Mystery|Romance|Thriller  3.600033  \n",
      "903                     Action|Adventure|Western  3.574812  \n",
      "906                          Adventure|Drama|War  3.573116  \n",
      "924   Adventure|Animation|Children|Comedy|Sci-Fi  3.572606  \n",
      "933                             Action|Drama|War  3.571922  \n",
      "960                 Action|Comedy|Fantasy|Horror  3.567271  \n",
      "1494                      Action|Adventure|Drama  3.559654  \n",
      "4176       Action|Adventure|Crime|Drama|Thriller  3.559329  \n",
      "7060                   Action|Drama|Thriller|War  3.558702  \n",
      "7214               Action|Crime|Mystery|Thriller  3.557648  \n"
     ]
    }
   ],
   "source": [
    "# Generate recommendations for user 1\n",
    "user_id = 1\n",
    "recommended_movies = hybrid_recommendations(\n",
    "    user_id=user_id,\n",
    "    train_data=ratings,\n",
    "    svd_model=svd_model,\n",
    "    similarity_matrix=similarity_matrix,\n",
    "    movies=movies,\n",
    "    top_n=10,\n",
    "    alpha=0.7  # Adjust alpha to balance CF and CB contributions\n",
    ")\n",
    "\n",
    "# Display the recommendations\n",
    "print(recommended_movies[['title', 'genres', 'score']])"
   ]
  },
  {
   "cell_type": "markdown",
   "metadata": {},
   "source": [
    "### Evaluate hybrid model"
   ]
  },
  {
   "cell_type": "code",
   "execution_count": null,
   "metadata": {},
   "outputs": [],
   "source": []
  }
 ],
 "metadata": {
  "kernelspec": {
   "display_name": "learn-env",
   "language": "python",
   "name": "python3"
  },
  "language_info": {
   "codemirror_mode": {
    "name": "ipython",
    "version": 3
   },
   "file_extension": ".py",
   "mimetype": "text/x-python",
   "name": "python",
   "nbconvert_exporter": "python",
   "pygments_lexer": "ipython3",
   "version": "3.12.2"
  }
 },
 "nbformat": 4,
 "nbformat_minor": 2
}
