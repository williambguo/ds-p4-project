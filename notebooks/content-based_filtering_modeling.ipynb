{
 "cells": [
  {
   "cell_type": "markdown",
   "metadata": {},
   "source": [
    "# Content-based Filtering"
   ]
  },
  {
   "cell_type": "code",
   "execution_count": 34,
   "metadata": {},
   "outputs": [],
   "source": [
    "# Import necessary libraries and submodules\n",
    "import pandas as pd \n",
    "import numpy as np \n",
    "import matplotlib.pyplot as plt \n",
    "import seaborn as sns \n",
    "\n",
    "from surprise import Dataset, Reader\n",
    "from surprise import SVD # implementation of Funk's SVD (gradient descent-based matrix factorization)\n",
    "from surprise import accuracy # metric\n",
    "from surprise.model_selection import train_test_split, GridSearchCV #train/test splits, crossval\n",
    "\n",
    "from sklearn.preprocessing import MultiLabelBinarizer\n",
    "from sklearn.feature_extraction.text import TfidfVectorizer\n",
    "from sklearn.metrics.pairwise import cosine_similarity\n",
    "from sklearn.model_selection import train_test_split"
   ]
  },
  {
   "cell_type": "code",
   "execution_count": null,
   "metadata": {},
   "outputs": [],
   "source": [
    "# Load data into dataframes\n",
    "ratings = pd.read_csv('../data/ratings.csv')\n",
    "movies = pd.read_csv('../data/movies.csv')\n",
    "tags = pd.read_csv('../data/tags.csv')"
   ]
  },
  {
   "cell_type": "markdown",
   "metadata": {},
   "source": [
    "### One-hot encode genres"
   ]
  },
  {
   "cell_type": "code",
   "execution_count": 26,
   "metadata": {},
   "outputs": [],
   "source": [
    "# One-hot encode genres\n",
    "movies['genres_split'] = movies['genres'].str.split('|')  # Split genres into lists\n",
    "mlb = MultiLabelBinarizer()\n",
    "genre_encoded = mlb.fit_transform(movies['genres_split'])\n",
    "genre_df = pd.DataFrame(genre_encoded, columns=mlb.classes_)"
   ]
  },
  {
   "cell_type": "markdown",
   "metadata": {},
   "source": [
    "### Creating a content feature matrix"
   ]
  },
  {
   "cell_type": "code",
   "execution_count": 27,
   "metadata": {},
   "outputs": [],
   "source": [
    "# Vectorize tags using TF-IDF\n",
    "tag_vectorizer = TfidfVectorizer(max_features=500)  # Adjust max_features as needed\n",
    "tag_features = tag_vectorizer.fit_transform(tags['tag'])\n",
    "\n",
    "# Align indices and combine features\n",
    "tag_df = pd.DataFrame(tag_features.toarray()).reset_index(drop=True)\n",
    "content_features = pd.concat([genre_df, tag_df], axis=1)\n",
    "\n",
    "content_features = content_features.fillna(0)"
   ]
  },
  {
   "cell_type": "markdown",
   "metadata": {},
   "source": [
    "### Calculating similarity between movies"
   ]
  },
  {
   "cell_type": "code",
   "execution_count": 28,
   "metadata": {},
   "outputs": [],
   "source": [
    "# Calculate cosine similarity between all movies\n",
    "similarity_matrix = cosine_similarity(content_features)"
   ]
  },
  {
   "cell_type": "markdown",
   "metadata": {},
   "source": [
    "### Generating recommendations"
   ]
  },
  {
   "cell_type": "markdown",
   "metadata": {},
   "source": [
    "Custom function for recommending the 10 most similar movies (according to cosine similarity) to the movie used as input."
   ]
  },
  {
   "cell_type": "code",
   "execution_count": 29,
   "metadata": {},
   "outputs": [],
   "source": [
    "def recommend_movies(movie_title, movies_df, similarity_matrix, top_n=10):\n",
    "    # Get the index of the movie\n",
    "    idx = movies_df[movies_df['title'] == movie_title].index[0]\n",
    "    \n",
    "    # Get similarity scores for the movie\n",
    "    sim_scores = list(enumerate(similarity_matrix[idx]))\n",
    "    \n",
    "    # Sort movies by similarity scores\n",
    "    sim_scores = sorted(sim_scores, key=lambda x: x[1], reverse=True)\n",
    "    \n",
    "    # Get indices of top_n most similar movies\n",
    "    top_movies = sim_scores[1:top_n+1]  # Exclude the movie itself\n",
    "    top_indices = [i[0] for i in top_movies]\n",
    "    \n",
    "    # Return titles of top similar movies\n",
    "    return movies_df.iloc[top_indices]['title'].values"
   ]
  },
  {
   "cell_type": "markdown",
   "metadata": {},
   "source": [
    "#### Let's test it out!"
   ]
  },
  {
   "cell_type": "code",
   "execution_count": 30,
   "metadata": {},
   "outputs": [
    {
     "name": "stdout",
     "output_type": "stream",
     "text": [
      "['Adventures of Rocky and Bullwinkle, The (2000)' 'Wild, The (2006)'\n",
      " 'Shrek the Third (2007)' 'Tale of Despereaux, The (2008)'\n",
      " 'Asterix and the Vikings (Astérix et les Vikings) (2006)' 'Turbo (2013)'\n",
      " 'The Good Dinosaur (2015)' 'Moana (2016)' 'Antz (1998)'\n",
      " 'Toy Story 2 (1999)']\n"
     ]
    }
   ],
   "source": [
    "recommendations = recommend_movies('Toy Story (1995)', movies, similarity_matrix)\n",
    "print(recommendations)"
   ]
  },
  {
   "cell_type": "markdown",
   "metadata": {},
   "source": [
    "Looks alright at least with Toy Story."
   ]
  },
  {
   "cell_type": "markdown",
   "metadata": {},
   "source": [
    "### More personalized recommendations"
   ]
  },
  {
   "cell_type": "markdown",
   "metadata": {},
   "source": [
    "Finding movies that the user has rated highly and using those movies as a basis for finding similar movies."
   ]
  },
  {
   "cell_type": "code",
   "execution_count": 33,
   "metadata": {},
   "outputs": [
    {
     "name": "stdout",
     "output_type": "stream",
     "text": [
      "['RoboCop 3 (1993)', 'Fear of a Black Hat (1994)', 'Going Places (Valseuses, Les) (1974)', 'Heavy (1995)', 'Warriors of Heaven and Earth (Tian di ying xiong) (2003)', 'Roger & Me (1989)', 'Village, The (2004)', 'Jane Eyre (1996)', \"Microcosmos (Microcosmos: Le peuple de l'herbe) (1996)\", 'My Crazy Life (Mi vida loca) (1993)', 'Shadow of a Doubt (1943)', 'Three Colors: Red (Trois couleurs: Rouge) (1994)', 'Man on Fire (2004)', 'Pootie Tang (2001)', 'Year of the Horse (1997)', 'Insomnia (2002)', 'Total Eclipse (1995)', 'Paper Moon (1973)', \"I'm Gonna Git You Sucka (1988)\", 'To End All Wars (2001)', 'John Q (2002)', 'Man in the Iron Mask, The (1998)', 'Source Code (2011)', 'Watchmen (2009)', 'Total Recall (1990)', 'Miami Blues (1990)', 'Witness for the Prosecution (1957)', 'Ready to Wear (Pret-A-Porter) (1994)', 'Guardian, The (2006)', 'X2: X-Men United (2003)', 'Untouchables, The (1987)', 'Ladybird Ladybird (1994)', 'Living in Oblivion (1995)', 'Line King: The Al Hirschfeld Story, The (1996)', 'Flight of the Phoenix, The (1965)', 'Memphis Belle (1990)', 'Perfect World, A (1993)', 'Paris Is Burning (1990)', 'The Falcon and the Snowman (1985)', 'Sea of Love (1989)', 'Someone to Watch Over Me (1987)', 'Great Day in Harlem, A (1994)', 'Necessary Roughness (1991)', 'Smokey and the Bandit (1977)', 'Exotica (1994)', 'Smokey and the Bandit III (1983)', 'Missing (1982)', 'Dogville (2003)', 'Zulu (1964)', 'Strange Days (1995)', 'Into the Wild (2007)', 'Above the Law (1988)', 'Substitute, The (1996)', 'Dead Presidents (1995)', 'Eye for an Eye, An (1981)', 'Wonderful, Horrible Life of Leni Riefenstahl, The (Macht der Bilder: Leni Riefenstahl, Die) (1993)', 'Alexander Nevsky (Aleksandr Nevskiy) (1938)', 'Happy Gilmore (1996)', 'Showgirls (1995)', 'Next of Kin (1989)', 'Clockstoppers (2002)', 'Maya Lin: A Strong Clear Vision (1994)', 'Dragnet (1987)', 'Ace Ventura: When Nature Calls (1995)', 'Germinal (1993)', 'Dirty Harry (1971)', 'Rough Magic (1995)', 'Fast Five (Fast and the Furious 5, The) (2011)', 'Talented Mr. Ripley, The (1999)', 'Leaving Las Vegas (1995)', 'Money Talks (1997)', 'Air Up There, The (1994)', 'Minority Report (2002)', 'Death to Smoochy (2002)', 'Tom & Viv (1994)', 'F/X (1986)', 'Stealth (2005)', 'Pillow Book, The (1996)', 'Gangster No. 1 (2000)', \"She's So Lovely (1997)\", 'Once Upon a Time in China (Wong Fei Hung) (1991)', 'xXx (2002)', 'Bridge Too Far, A (1977)', 'Foxy Brown (1974)', \"Loaded Weapon 1 (National Lampoon's Loaded Weapon 1) (1993)\", 'Mulholland Falls (1996)', 'Father of the Bride Part II (1995)', \"Jupiter's Wife (1994)\", 'Book of Eli, The (2010)', 'Hamburger Hill (1987)', 'The Machinist (2004)', 'Thin Blue Line, The (1988)', 'Spider-Man (2002)', 'I, Robot (2004)', 'Burnt by the Sun (Utomlyonnye solntsem) (1994)', 'Z (1969)', 'Boys Life (1995)', 'Billy Madison (1995)', 'Faster Pussycat! Kill! Kill! (1965)', 'Man Without a Past, The (Mies vailla menneisyyttä) (2002)', 'Paris, Texas (1984)', 'Girl Who Played with Fire, The (Flickan som lekte med elden) (2009)', 'Band of the Hand (1986)', 'We Were Soldiers (2002)', 'Cannonball Run, The (1981)', 'Disorganized Crime (1989)', 'War of the Worlds (2005)', 'Need for Speed (2014)', 'Matchstick Men (2003)', 'Independence Day (a.k.a. ID4) (1996)', 'Major Payne (1995)', 'Men at Work (1990)', 'Nothing to Lose (1994)', 'I Went Down (1997)', \"Muriel's Wedding (1994)\", 'Gods and Generals (2003)', 'Showtime (2002)', 'Plunkett & MaCleane (1999)', 'Star Trek II: The Wrath of Khan (1982)', 'Simple Plan, A (1998)', 'Marathon Man (1976)', 'You Only Live Twice (1967)', 'Clean Slate (1994)', 'Eyes Wide Shut (1999)', 'Jackie Brown (1997)', 'Cellular (2004)', 'Higher Learning (1995)', 'Spun (2001)', 'Ronin (1998)', 'Samurai Assassin (Samurai) (1965)', 'Fast and the Furious, The (2001)', 'Smokey and the Bandit II (1980)', 'Kiss of Death (1995)', 'Knowing (2009)', 'Hero (Ying xiong) (2002)', 'Victory (a.k.a. Escape to Victory) (1981)', 'Basketball Diaries, The (1995)', \"I'm Not Scared (Io non ho paura) (2003)\", 'Bonfire of the Vanities (1990)', 'French Connection, The (1971)', 'Black Sheep (1996)', 'Swimming Pool (2003)', 'Windtalkers (2002)', 'Horseman on the Roof, The (Hussard sur le toit, Le) (1995)']\n"
     ]
    },
    {
     "name": "stderr",
     "output_type": "stream",
     "text": [
      "/var/folders/qw/rb7_t46j2zzdbl34bgb2vjg40000gn/T/ipykernel_16727/4058117964.py:2: UserWarning: Boolean Series key will be reindexed to match DataFrame index.\n",
      "  user_high_ratings = ratings[ratings['userId'] == 2][ratings['rating'] >= 4.0]\n"
     ]
    }
   ],
   "source": [
    "# Get movies rated highly by a user\n",
    "user_high_ratings = ratings[ratings['userId'] == 2][ratings['rating'] >= 4.0]\n",
    "\n",
    "# Find similar movies to those rated highly\n",
    "similar_movies = []\n",
    "for movie_id in user_high_ratings['movieId']:\n",
    "    similar_movies.extend(recommend_movies(movies.loc[movies['movieId'] == movie_id, 'title'].values[0], \n",
    "                                           movies, similarity_matrix))\n",
    "\n",
    "# Deduplicate and sort recommendations\n",
    "personalized_recommendations = list(set(similar_movies))\n",
    "print(personalized_recommendations)"
   ]
  },
  {
   "cell_type": "markdown",
   "metadata": {},
   "source": [
    "## Model evaluation"
   ]
  },
  {
   "cell_type": "code",
   "execution_count": 35,
   "metadata": {},
   "outputs": [],
   "source": [
    "train_data, test_data = train_test_split(ratings, test_size=0.2, random_state=42)"
   ]
  },
  {
   "cell_type": "code",
   "execution_count": 49,
   "metadata": {},
   "outputs": [],
   "source": [
    "def get_content_recommendations(user_id, train_data, similarity_matrix, top_n=10):\n",
    "    # Get movies the user has rated\n",
    "    user_rated_movies = train_data[train_data['userId'] == user_id]['movieId'].tolist()\n",
    "\n",
    "    # Map movie IDs to similarity matrix indices\n",
    "    user_rated_indices = [movie_id_to_index[movie_id] for movie_id in user_rated_movies if movie_id in movie_id_to_index]\n",
    "\n",
    "    # Aggregate similarity scores for rated movies\n",
    "    if not user_rated_indices:  # Handle users with no valid ratings\n",
    "        return []\n",
    "    \n",
    "    scores = np.mean(similarity_matrix[user_rated_indices], axis=0)\n",
    "\n",
    "    # Sort scores and recommend top_n movies\n",
    "    recommended_movie_indices = np.argsort(scores)[::-1][:top_n]\n",
    "\n",
    "    return [movies.iloc[idx]['movieId'] for idx in recommended_movie_indices if idx in movie_id_to_index.values()]"
   ]
  },
  {
   "cell_type": "code",
   "execution_count": 50,
   "metadata": {},
   "outputs": [
    {
     "name": "stdout",
     "output_type": "stream",
     "text": [
      "Average Precision@10: 0.0066\n",
      "Average Recall@10: 0.0026\n"
     ]
    }
   ],
   "source": [
    "def evaluate_precision_recall(user_id, test_data, train_data, similarity_matrix, top_n=10):\n",
    "    \"\"\"\n",
    "    Evaluate Precision@k and Recall@k for a specific user.\n",
    "    \"\"\"\n",
    "    # Ground truth: Movies the user interacted with in the test set\n",
    "    test_movies = test_data[test_data['userId'] == user_id]['movieId'].tolist()\n",
    "\n",
    "    # Generate content-based recommendations\n",
    "    recommended_movies = get_content_recommendations(user_id, train_data, similarity_matrix, top_n)\n",
    "\n",
    "    # Calculate precision and recall\n",
    "    relevant_recommendations = len(set(recommended_movies) & set(test_movies))\n",
    "    precision = relevant_recommendations / top_n\n",
    "    recall = relevant_recommendations / len(test_movies) if test_movies else 0\n",
    "\n",
    "    return precision, recall\n",
    "\n",
    "# Evaluate Precision@k and Recall@k for all users in the test set\n",
    "precisions = []\n",
    "recalls = []\n",
    "\n",
    "for user_id in test_data['userId'].unique():\n",
    "    precision, recall = evaluate_precision_recall(user_id, test_data, train_data, similarity_matrix, top_n=10)\n",
    "    precisions.append(precision)\n",
    "    recalls.append(recall)\n",
    "\n",
    "# Compute and display average Precision@k and Recall@k\n",
    "avg_precision = np.mean(precisions)\n",
    "avg_recall = np.mean(recalls)\n",
    "print(f\"Average Precision@10: {avg_precision:.4f}\")\n",
    "print(f\"Average Recall@10: {avg_recall:.4f}\")"
   ]
  },
  {
   "cell_type": "code",
   "execution_count": 48,
   "metadata": {},
   "outputs": [],
   "source": [
    "# Map movieId to the corresponding row index in similarity_matrix\n",
    "movie_id_to_index = {movie_id: idx for idx, movie_id in enumerate(movies['movieId'])}"
   ]
  },
  {
   "cell_type": "code",
   "execution_count": 51,
   "metadata": {},
   "outputs": [
    {
     "name": "stdout",
     "output_type": "stream",
     "text": [
      "Average NDCG@10: 0.0068\n"
     ]
    }
   ],
   "source": [
    "def evaluate_ndcg(user_id, test_data, train_data, similarity_matrix, top_n=10):\n",
    "    \"\"\"\n",
    "    Evaluate NDCG@k for a specific user.\n",
    "    \"\"\"\n",
    "    # Ground truth: Movies the user interacted with in the test set\n",
    "    test_movies = test_data[test_data['userId'] == user_id]['movieId'].tolist()\n",
    "\n",
    "    # Generate content-based recommendations\n",
    "    recommended_movies = get_content_recommendations(user_id, train_data, similarity_matrix, top_n)\n",
    "\n",
    "    # Calculate DCG (Discounted Cumulative Gain)\n",
    "    dcg = sum([1 / np.log2(i + 2) for i, movie in enumerate(recommended_movies) if movie in test_movies])\n",
    "\n",
    "    # Calculate IDCG (Ideal DCG)\n",
    "    idcg = sum([1 / np.log2(i + 2) for i in range(len(test_movies)) if i < top_n])\n",
    "\n",
    "    # Compute NDCG\n",
    "    ndcg = dcg / idcg if idcg > 0 else 0\n",
    "    return ndcg\n",
    "\n",
    "# Evaluate NDCG for all users in the test set\n",
    "ndcgs = []\n",
    "\n",
    "for user_id in test_data['userId'].unique():\n",
    "    ndcg = evaluate_ndcg(user_id, test_data, train_data, similarity_matrix, top_n=10)\n",
    "    ndcgs.append(ndcg)\n",
    "\n",
    "# Compute and display average NDCG@k\n",
    "avg_ndcg = np.mean(ndcgs)\n",
    "print(f\"Average NDCG@10: {avg_ndcg:.4f}\")"
   ]
  },
  {
   "cell_type": "markdown",
   "metadata": {},
   "source": [
    "These scores are absolutely horrendous."
   ]
  },
  {
   "cell_type": "markdown",
   "metadata": {},
   "source": []
  }
 ],
 "metadata": {
  "kernelspec": {
   "display_name": "learn-env",
   "language": "python",
   "name": "python3"
  },
  "language_info": {
   "codemirror_mode": {
    "name": "ipython",
    "version": 3
   },
   "file_extension": ".py",
   "mimetype": "text/x-python",
   "name": "python",
   "nbconvert_exporter": "python",
   "pygments_lexer": "ipython3",
   "version": "3.12.2"
  }
 },
 "nbformat": 4,
 "nbformat_minor": 2
}
