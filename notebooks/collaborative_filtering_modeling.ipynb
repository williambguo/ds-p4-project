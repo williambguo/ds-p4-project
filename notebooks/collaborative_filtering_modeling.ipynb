{
 "cells": [
  {
   "cell_type": "markdown",
   "metadata": {},
   "source": [
    "# Collaborative Filtering Modeling"
   ]
  },
  {
   "cell_type": "markdown",
   "metadata": {},
   "source": [
    "In this notebook, I use the powerful Surprise library's SVD algorithm to create a collaborative filtering recommendation system."
   ]
  },
  {
   "cell_type": "code",
   "execution_count": null,
   "metadata": {},
   "outputs": [],
   "source": [
    "# Import necessary libraries\n",
    "import pandas as pd \n",
    "import numpy as np \n",
    "import matplotlib.pyplot as plt \n",
    "import seaborn as sns \n",
    "\n",
    "from surprise import Dataset, Reader\n",
    "from surprise import SVD \n",
    "from surprise import accuracy \n",
    "from surprise.model_selection import train_test_split, GridSearchCV "
   ]
  },
  {
   "cell_type": "code",
   "execution_count": null,
   "metadata": {},
   "outputs": [],
   "source": [
    "# Load the data\n",
    "df = pd.read_csv('../data/processed/merged_for_svd.csv')"
   ]
  },
  {
   "cell_type": "markdown",
   "metadata": {},
   "source": [
    "## SVD"
   ]
  },
  {
   "cell_type": "markdown",
   "metadata": {},
   "source": [
    "#### Create reader object"
   ]
  },
  {
   "cell_type": "code",
   "execution_count": null,
   "metadata": {},
   "outputs": [],
   "source": [
    "# Initialize a reader object with our 0.5-5.0 rating scale\n",
    "reader = Reader(rating_scale=(df['rating'].min(), df['rating'].max()))"
   ]
  },
  {
   "cell_type": "markdown",
   "metadata": {},
   "source": [
    "#### Dataset generator"
   ]
  },
  {
   "cell_type": "code",
   "execution_count": 10,
   "metadata": {},
   "outputs": [
    {
     "data": {
      "text/plain": [
       "<surprise.dataset.DatasetAutoFolds at 0x16c300a10>"
      ]
     },
     "execution_count": 10,
     "metadata": {},
     "output_type": "execute_result"
    }
   ],
   "source": [
    "# Create dataset generator\n",
    "data_gen = Dataset.load_from_df(df[['userId', 'movieId', 'rating']], reader)\n",
    "data_gen"
   ]
  },
  {
   "cell_type": "markdown",
   "metadata": {},
   "source": [
    "#### Train/test split the data"
   ]
  },
  {
   "cell_type": "code",
   "execution_count": 11,
   "metadata": {},
   "outputs": [],
   "source": [
    "trainset, testset = train_test_split(data_gen, test_size=0.2, random_state = 42)"
   ]
  },
  {
   "cell_type": "markdown",
   "metadata": {},
   "source": [
    "### Modeling"
   ]
  },
  {
   "cell_type": "markdown",
   "metadata": {},
   "source": [
    "The parameters for the first \"default\" model here are just chosen arbitrarily."
   ]
  },
  {
   "cell_type": "code",
   "execution_count": null,
   "metadata": {},
   "outputs": [
    {
     "data": {
      "text/plain": [
       "<surprise.prediction_algorithms.matrix_factorization.SVD at 0x16891e180>"
      ]
     },
     "execution_count": 12,
     "metadata": {},
     "output_type": "execute_result"
    }
   ],
   "source": [
    "# Fit the model\n",
    "svd = SVD(reg_all=0.05, lr_all=0.0025, n_factors=100, n_epochs=30)\n",
    "svd.fit(trainset)"
   ]
  },
  {
   "cell_type": "code",
   "execution_count": null,
   "metadata": {},
   "outputs": [],
   "source": [
    "# Make predictions\n",
    "predictions = svd.test(testset)"
   ]
  },
  {
   "cell_type": "markdown",
   "metadata": {},
   "source": [
    "### Model Evaluation"
   ]
  },
  {
   "cell_type": "markdown",
   "metadata": {},
   "source": [
    "#### Root Mean Squared Error (RMSE)"
   ]
  },
  {
   "cell_type": "code",
   "execution_count": 14,
   "metadata": {},
   "outputs": [
    {
     "name": "stdout",
     "output_type": "stream",
     "text": [
      "RMSE: 0.8789\n",
      "0.8789324838424579\n"
     ]
    }
   ],
   "source": [
    "print(accuracy.rmse(predictions))"
   ]
  },
  {
   "cell_type": "markdown",
   "metadata": {},
   "source": [
    "#### Mean Absolute Error (MAE)"
   ]
  },
  {
   "cell_type": "code",
   "execution_count": 15,
   "metadata": {},
   "outputs": [
    {
     "name": "stdout",
     "output_type": "stream",
     "text": [
      "MAE:  0.6772\n",
      "0.6772170515543106\n"
     ]
    }
   ],
   "source": [
    "print(accuracy.mae(predictions))"
   ]
  },
  {
   "cell_type": "markdown",
   "metadata": {},
   "source": [
    "#### Fraction of Concordant Pairs (FCP)"
   ]
  },
  {
   "cell_type": "code",
   "execution_count": 16,
   "metadata": {},
   "outputs": [
    {
     "name": "stdout",
     "output_type": "stream",
     "text": [
      "FCP:  0.6636\n"
     ]
    },
    {
     "data": {
      "text/plain": [
       "0.6635937182215395"
      ]
     },
     "execution_count": 16,
     "metadata": {},
     "output_type": "execute_result"
    }
   ],
   "source": [
    "accuracy.fcp(predictions)"
   ]
  },
  {
   "cell_type": "markdown",
   "metadata": {},
   "source": [
    "Not the best. The model has room for improvement. But before I move on to model optimization, let's run a quick model evaluation with cross_validate from the surprise library."
   ]
  },
  {
   "cell_type": "code",
   "execution_count": 17,
   "metadata": {},
   "outputs": [],
   "source": [
    "from surprise.model_selection import cross_validate"
   ]
  },
  {
   "cell_type": "code",
   "execution_count": 18,
   "metadata": {},
   "outputs": [
    {
     "name": "stdout",
     "output_type": "stream",
     "text": [
      "Evaluating RMSE, MAE, FCP of algorithm SVD on 5 split(s).\n",
      "\n",
      "                  Fold 1  Fold 2  Fold 3  Fold 4  Fold 5  Mean    Std     \n",
      "RMSE (testset)    0.8785  0.8742  0.8865  0.8618  0.8682  0.8738  0.0084  \n",
      "MAE (testset)     0.6720  0.6702  0.6796  0.6650  0.6692  0.6712  0.0048  \n",
      "FCP (testset)     0.6512  0.6537  0.6697  0.6726  0.6581  0.6611  0.0086  \n",
      "Fit time          0.37    0.36    0.36    0.36    0.36    0.36    0.00    \n",
      "Test time         0.04    0.04    0.04    0.04    0.04    0.04    0.00    \n"
     ]
    },
    {
     "data": {
      "text/plain": [
       "{'test_rmse': array([0.87849451, 0.87417833, 0.8864518 , 0.86184196, 0.86817434]),\n",
       " 'test_mae': array([0.6719964 , 0.67019209, 0.67961491, 0.66499076, 0.66918246]),\n",
       " 'test_fcp': array([0.65120584, 0.65372255, 0.66968265, 0.67263084, 0.65808339]),\n",
       " 'fit_time': (0.36647987365722656,\n",
       "  0.36095499992370605,\n",
       "  0.36016201972961426,\n",
       "  0.3616800308227539,\n",
       "  0.3599710464477539),\n",
       " 'test_time': (0.04133296012878418,\n",
       "  0.0393679141998291,\n",
       "  0.03963303565979004,\n",
       "  0.03938007354736328,\n",
       "  0.0395660400390625)}"
      ]
     },
     "execution_count": 18,
     "metadata": {},
     "output_type": "execute_result"
    }
   ],
   "source": [
    "algo = SVD()\n",
    "cross_validate(algo, data_gen, measures=['RMSE', 'MAE', 'FCP'], cv=5, verbose=True)"
   ]
  },
  {
   "cell_type": "markdown",
   "metadata": {},
   "source": [
    "The evaluation metric scores are fairly in line with what I got above. Now, onto optimization."
   ]
  },
  {
   "cell_type": "markdown",
   "metadata": {},
   "source": [
    "## Model Optimization"
   ]
  },
  {
   "cell_type": "markdown",
   "metadata": {},
   "source": [
    "Cross-validation and hyperparameter tuning to obtain the best hyperparameters for the model."
   ]
  },
  {
   "cell_type": "code",
   "execution_count": null,
   "metadata": {},
   "outputs": [],
   "source": [
    "# Creating a parameter grid for GridSearchCV\n",
    "param_grid = {\n",
    "    'n_factors': [50, 100, 150],           # Number of latent factors\n",
    "    'lr_all': [0.002, 0.005, 0.01],        # Learning rate for all parameters\n",
    "    'reg_all': [0.02, 0.05, 0.1],          # Regularization term for all parameters\n",
    "    'n_epochs': [20, 50, 100]              # Number of iterations\n",
    "}"
   ]
  },
  {
   "cell_type": "code",
   "execution_count": null,
   "metadata": {},
   "outputs": [],
   "source": [
    "# Initialize a GridSearchCV object\n",
    "gs = GridSearchCV(SVD, param_grid, measures=[\"rmse\", \"mae\", \"fcp\"], cv=5)"
   ]
  },
  {
   "cell_type": "code",
   "execution_count": null,
   "metadata": {},
   "outputs": [],
   "source": [
    "# Running the grid search over my specified parameters\n",
    "gs.fit(data_gen)"
   ]
  },
  {
   "cell_type": "code",
   "execution_count": 22,
   "metadata": {},
   "outputs": [
    {
     "data": {
      "text/html": [
       "<div>\n",
       "<style scoped>\n",
       "    .dataframe tbody tr th:only-of-type {\n",
       "        vertical-align: middle;\n",
       "    }\n",
       "\n",
       "    .dataframe tbody tr th {\n",
       "        vertical-align: top;\n",
       "    }\n",
       "\n",
       "    .dataframe thead th {\n",
       "        text-align: right;\n",
       "    }\n",
       "</style>\n",
       "<table border=\"1\" class=\"dataframe\">\n",
       "  <thead>\n",
       "    <tr style=\"text-align: right;\">\n",
       "      <th></th>\n",
       "      <th>split0_test_rmse</th>\n",
       "      <th>split1_test_rmse</th>\n",
       "      <th>split2_test_rmse</th>\n",
       "      <th>split3_test_rmse</th>\n",
       "      <th>split4_test_rmse</th>\n",
       "      <th>mean_test_rmse</th>\n",
       "      <th>std_test_rmse</th>\n",
       "      <th>rank_test_rmse</th>\n",
       "      <th>split0_test_mae</th>\n",
       "      <th>split1_test_mae</th>\n",
       "      <th>...</th>\n",
       "      <th>rank_test_fcp</th>\n",
       "      <th>mean_fit_time</th>\n",
       "      <th>std_fit_time</th>\n",
       "      <th>mean_test_time</th>\n",
       "      <th>std_test_time</th>\n",
       "      <th>params</th>\n",
       "      <th>param_n_factors</th>\n",
       "      <th>param_lr_all</th>\n",
       "      <th>param_reg_all</th>\n",
       "      <th>param_n_epochs</th>\n",
       "    </tr>\n",
       "  </thead>\n",
       "  <tbody>\n",
       "    <tr>\n",
       "      <th>0</th>\n",
       "      <td>0.887010</td>\n",
       "      <td>0.887983</td>\n",
       "      <td>0.878330</td>\n",
       "      <td>0.884048</td>\n",
       "      <td>0.876095</td>\n",
       "      <td>0.882693</td>\n",
       "      <td>0.004712</td>\n",
       "      <td>68</td>\n",
       "      <td>0.681126</td>\n",
       "      <td>0.686924</td>\n",
       "      <td>...</td>\n",
       "      <td>73</td>\n",
       "      <td>0.242185</td>\n",
       "      <td>0.011855</td>\n",
       "      <td>0.077888</td>\n",
       "      <td>0.075899</td>\n",
       "      <td>{'n_factors': 50, 'lr_all': 0.002, 'reg_all': ...</td>\n",
       "      <td>50</td>\n",
       "      <td>0.002</td>\n",
       "      <td>0.02</td>\n",
       "      <td>20</td>\n",
       "    </tr>\n",
       "    <tr>\n",
       "      <th>1</th>\n",
       "      <td>0.877858</td>\n",
       "      <td>0.876475</td>\n",
       "      <td>0.863703</td>\n",
       "      <td>0.873373</td>\n",
       "      <td>0.866027</td>\n",
       "      <td>0.871487</td>\n",
       "      <td>0.005647</td>\n",
       "      <td>50</td>\n",
       "      <td>0.671393</td>\n",
       "      <td>0.675169</td>\n",
       "      <td>...</td>\n",
       "      <td>57</td>\n",
       "      <td>0.567590</td>\n",
       "      <td>0.026436</td>\n",
       "      <td>0.059502</td>\n",
       "      <td>0.041092</td>\n",
       "      <td>{'n_factors': 50, 'lr_all': 0.002, 'reg_all': ...</td>\n",
       "      <td>50</td>\n",
       "      <td>0.002</td>\n",
       "      <td>0.02</td>\n",
       "      <td>50</td>\n",
       "    </tr>\n",
       "    <tr>\n",
       "      <th>2</th>\n",
       "      <td>0.888985</td>\n",
       "      <td>0.882042</td>\n",
       "      <td>0.875635</td>\n",
       "      <td>0.880659</td>\n",
       "      <td>0.872050</td>\n",
       "      <td>0.879874</td>\n",
       "      <td>0.005788</td>\n",
       "      <td>64</td>\n",
       "      <td>0.678516</td>\n",
       "      <td>0.677899</td>\n",
       "      <td>...</td>\n",
       "      <td>65</td>\n",
       "      <td>1.072411</td>\n",
       "      <td>0.005289</td>\n",
       "      <td>0.067272</td>\n",
       "      <td>0.057242</td>\n",
       "      <td>{'n_factors': 50, 'lr_all': 0.002, 'reg_all': ...</td>\n",
       "      <td>50</td>\n",
       "      <td>0.002</td>\n",
       "      <td>0.02</td>\n",
       "      <td>100</td>\n",
       "    </tr>\n",
       "    <tr>\n",
       "      <th>3</th>\n",
       "      <td>0.886180</td>\n",
       "      <td>0.887737</td>\n",
       "      <td>0.878285</td>\n",
       "      <td>0.883696</td>\n",
       "      <td>0.875397</td>\n",
       "      <td>0.882259</td>\n",
       "      <td>0.004697</td>\n",
       "      <td>66</td>\n",
       "      <td>0.681122</td>\n",
       "      <td>0.686957</td>\n",
       "      <td>...</td>\n",
       "      <td>56</td>\n",
       "      <td>0.223188</td>\n",
       "      <td>0.003652</td>\n",
       "      <td>0.060444</td>\n",
       "      <td>0.042679</td>\n",
       "      <td>{'n_factors': 50, 'lr_all': 0.002, 'reg_all': ...</td>\n",
       "      <td>50</td>\n",
       "      <td>0.002</td>\n",
       "      <td>0.05</td>\n",
       "      <td>20</td>\n",
       "    </tr>\n",
       "    <tr>\n",
       "      <th>4</th>\n",
       "      <td>0.873889</td>\n",
       "      <td>0.874613</td>\n",
       "      <td>0.866010</td>\n",
       "      <td>0.871060</td>\n",
       "      <td>0.863193</td>\n",
       "      <td>0.869753</td>\n",
       "      <td>0.004460</td>\n",
       "      <td>41</td>\n",
       "      <td>0.669322</td>\n",
       "      <td>0.673933</td>\n",
       "      <td>...</td>\n",
       "      <td>44</td>\n",
       "      <td>0.550258</td>\n",
       "      <td>0.020065</td>\n",
       "      <td>0.061180</td>\n",
       "      <td>0.043959</td>\n",
       "      <td>{'n_factors': 50, 'lr_all': 0.002, 'reg_all': ...</td>\n",
       "      <td>50</td>\n",
       "      <td>0.002</td>\n",
       "      <td>0.05</td>\n",
       "      <td>50</td>\n",
       "    </tr>\n",
       "    <tr>\n",
       "      <th>...</th>\n",
       "      <td>...</td>\n",
       "      <td>...</td>\n",
       "      <td>...</td>\n",
       "      <td>...</td>\n",
       "      <td>...</td>\n",
       "      <td>...</td>\n",
       "      <td>...</td>\n",
       "      <td>...</td>\n",
       "      <td>...</td>\n",
       "      <td>...</td>\n",
       "      <td>...</td>\n",
       "      <td>...</td>\n",
       "      <td>...</td>\n",
       "      <td>...</td>\n",
       "      <td>...</td>\n",
       "      <td>...</td>\n",
       "      <td>...</td>\n",
       "      <td>...</td>\n",
       "      <td>...</td>\n",
       "      <td>...</td>\n",
       "      <td>...</td>\n",
       "    </tr>\n",
       "    <tr>\n",
       "      <th>76</th>\n",
       "      <td>0.859018</td>\n",
       "      <td>0.859863</td>\n",
       "      <td>0.848357</td>\n",
       "      <td>0.858690</td>\n",
       "      <td>0.846913</td>\n",
       "      <td>0.854568</td>\n",
       "      <td>0.005692</td>\n",
       "      <td>10</td>\n",
       "      <td>0.656225</td>\n",
       "      <td>0.660548</td>\n",
       "      <td>...</td>\n",
       "      <td>12</td>\n",
       "      <td>1.185448</td>\n",
       "      <td>0.001426</td>\n",
       "      <td>0.061758</td>\n",
       "      <td>0.041405</td>\n",
       "      <td>{'n_factors': 150, 'lr_all': 0.01, 'reg_all': ...</td>\n",
       "      <td>150</td>\n",
       "      <td>0.010</td>\n",
       "      <td>0.05</td>\n",
       "      <td>50</td>\n",
       "    </tr>\n",
       "    <tr>\n",
       "      <th>77</th>\n",
       "      <td>0.861548</td>\n",
       "      <td>0.859363</td>\n",
       "      <td>0.850039</td>\n",
       "      <td>0.855868</td>\n",
       "      <td>0.846156</td>\n",
       "      <td>0.854595</td>\n",
       "      <td>0.005739</td>\n",
       "      <td>11</td>\n",
       "      <td>0.657466</td>\n",
       "      <td>0.659657</td>\n",
       "      <td>...</td>\n",
       "      <td>10</td>\n",
       "      <td>2.415816</td>\n",
       "      <td>0.052048</td>\n",
       "      <td>0.065488</td>\n",
       "      <td>0.047542</td>\n",
       "      <td>{'n_factors': 150, 'lr_all': 0.01, 'reg_all': ...</td>\n",
       "      <td>150</td>\n",
       "      <td>0.010</td>\n",
       "      <td>0.05</td>\n",
       "      <td>100</td>\n",
       "    </tr>\n",
       "    <tr>\n",
       "      <th>78</th>\n",
       "      <td>0.868343</td>\n",
       "      <td>0.866953</td>\n",
       "      <td>0.857336</td>\n",
       "      <td>0.862949</td>\n",
       "      <td>0.854077</td>\n",
       "      <td>0.861932</td>\n",
       "      <td>0.005481</td>\n",
       "      <td>30</td>\n",
       "      <td>0.665118</td>\n",
       "      <td>0.667900</td>\n",
       "      <td>...</td>\n",
       "      <td>30</td>\n",
       "      <td>0.489466</td>\n",
       "      <td>0.002551</td>\n",
       "      <td>0.075714</td>\n",
       "      <td>0.069706</td>\n",
       "      <td>{'n_factors': 150, 'lr_all': 0.01, 'reg_all': ...</td>\n",
       "      <td>150</td>\n",
       "      <td>0.010</td>\n",
       "      <td>0.10</td>\n",
       "      <td>20</td>\n",
       "    </tr>\n",
       "    <tr>\n",
       "      <th>79</th>\n",
       "      <td>0.856519</td>\n",
       "      <td>0.855567</td>\n",
       "      <td>0.847104</td>\n",
       "      <td>0.852155</td>\n",
       "      <td>0.842634</td>\n",
       "      <td>0.850796</td>\n",
       "      <td>0.005246</td>\n",
       "      <td>5</td>\n",
       "      <td>0.654988</td>\n",
       "      <td>0.656599</td>\n",
       "      <td>...</td>\n",
       "      <td>4</td>\n",
       "      <td>1.187856</td>\n",
       "      <td>0.002947</td>\n",
       "      <td>0.040947</td>\n",
       "      <td>0.000257</td>\n",
       "      <td>{'n_factors': 150, 'lr_all': 0.01, 'reg_all': ...</td>\n",
       "      <td>150</td>\n",
       "      <td>0.010</td>\n",
       "      <td>0.10</td>\n",
       "      <td>50</td>\n",
       "    </tr>\n",
       "    <tr>\n",
       "      <th>80</th>\n",
       "      <td>0.856447</td>\n",
       "      <td>0.854653</td>\n",
       "      <td>0.846208</td>\n",
       "      <td>0.851394</td>\n",
       "      <td>0.841446</td>\n",
       "      <td>0.850029</td>\n",
       "      <td>0.005526</td>\n",
       "      <td>2</td>\n",
       "      <td>0.654094</td>\n",
       "      <td>0.655251</td>\n",
       "      <td>...</td>\n",
       "      <td>1</td>\n",
       "      <td>2.366213</td>\n",
       "      <td>0.016382</td>\n",
       "      <td>0.061867</td>\n",
       "      <td>0.041890</td>\n",
       "      <td>{'n_factors': 150, 'lr_all': 0.01, 'reg_all': ...</td>\n",
       "      <td>150</td>\n",
       "      <td>0.010</td>\n",
       "      <td>0.10</td>\n",
       "      <td>100</td>\n",
       "    </tr>\n",
       "  </tbody>\n",
       "</table>\n",
       "<p>81 rows × 33 columns</p>\n",
       "</div>"
      ],
      "text/plain": [
       "    split0_test_rmse  split1_test_rmse  split2_test_rmse  split3_test_rmse  \\\n",
       "0           0.887010          0.887983          0.878330          0.884048   \n",
       "1           0.877858          0.876475          0.863703          0.873373   \n",
       "2           0.888985          0.882042          0.875635          0.880659   \n",
       "3           0.886180          0.887737          0.878285          0.883696   \n",
       "4           0.873889          0.874613          0.866010          0.871060   \n",
       "..               ...               ...               ...               ...   \n",
       "76          0.859018          0.859863          0.848357          0.858690   \n",
       "77          0.861548          0.859363          0.850039          0.855868   \n",
       "78          0.868343          0.866953          0.857336          0.862949   \n",
       "79          0.856519          0.855567          0.847104          0.852155   \n",
       "80          0.856447          0.854653          0.846208          0.851394   \n",
       "\n",
       "    split4_test_rmse  mean_test_rmse  std_test_rmse  rank_test_rmse  \\\n",
       "0           0.876095        0.882693       0.004712              68   \n",
       "1           0.866027        0.871487       0.005647              50   \n",
       "2           0.872050        0.879874       0.005788              64   \n",
       "3           0.875397        0.882259       0.004697              66   \n",
       "4           0.863193        0.869753       0.004460              41   \n",
       "..               ...             ...            ...             ...   \n",
       "76          0.846913        0.854568       0.005692              10   \n",
       "77          0.846156        0.854595       0.005739              11   \n",
       "78          0.854077        0.861932       0.005481              30   \n",
       "79          0.842634        0.850796       0.005246               5   \n",
       "80          0.841446        0.850029       0.005526               2   \n",
       "\n",
       "    split0_test_mae  split1_test_mae  ...  rank_test_fcp  mean_fit_time  \\\n",
       "0          0.681126         0.686924  ...             73       0.242185   \n",
       "1          0.671393         0.675169  ...             57       0.567590   \n",
       "2          0.678516         0.677899  ...             65       1.072411   \n",
       "3          0.681122         0.686957  ...             56       0.223188   \n",
       "4          0.669322         0.673933  ...             44       0.550258   \n",
       "..              ...              ...  ...            ...            ...   \n",
       "76         0.656225         0.660548  ...             12       1.185448   \n",
       "77         0.657466         0.659657  ...             10       2.415816   \n",
       "78         0.665118         0.667900  ...             30       0.489466   \n",
       "79         0.654988         0.656599  ...              4       1.187856   \n",
       "80         0.654094         0.655251  ...              1       2.366213   \n",
       "\n",
       "    std_fit_time  mean_test_time  std_test_time  \\\n",
       "0       0.011855        0.077888       0.075899   \n",
       "1       0.026436        0.059502       0.041092   \n",
       "2       0.005289        0.067272       0.057242   \n",
       "3       0.003652        0.060444       0.042679   \n",
       "4       0.020065        0.061180       0.043959   \n",
       "..           ...             ...            ...   \n",
       "76      0.001426        0.061758       0.041405   \n",
       "77      0.052048        0.065488       0.047542   \n",
       "78      0.002551        0.075714       0.069706   \n",
       "79      0.002947        0.040947       0.000257   \n",
       "80      0.016382        0.061867       0.041890   \n",
       "\n",
       "                                               params  param_n_factors  \\\n",
       "0   {'n_factors': 50, 'lr_all': 0.002, 'reg_all': ...               50   \n",
       "1   {'n_factors': 50, 'lr_all': 0.002, 'reg_all': ...               50   \n",
       "2   {'n_factors': 50, 'lr_all': 0.002, 'reg_all': ...               50   \n",
       "3   {'n_factors': 50, 'lr_all': 0.002, 'reg_all': ...               50   \n",
       "4   {'n_factors': 50, 'lr_all': 0.002, 'reg_all': ...               50   \n",
       "..                                                ...              ...   \n",
       "76  {'n_factors': 150, 'lr_all': 0.01, 'reg_all': ...              150   \n",
       "77  {'n_factors': 150, 'lr_all': 0.01, 'reg_all': ...              150   \n",
       "78  {'n_factors': 150, 'lr_all': 0.01, 'reg_all': ...              150   \n",
       "79  {'n_factors': 150, 'lr_all': 0.01, 'reg_all': ...              150   \n",
       "80  {'n_factors': 150, 'lr_all': 0.01, 'reg_all': ...              150   \n",
       "\n",
       "    param_lr_all  param_reg_all  param_n_epochs  \n",
       "0          0.002           0.02              20  \n",
       "1          0.002           0.02              50  \n",
       "2          0.002           0.02             100  \n",
       "3          0.002           0.05              20  \n",
       "4          0.002           0.05              50  \n",
       "..           ...            ...             ...  \n",
       "76         0.010           0.05              50  \n",
       "77         0.010           0.05             100  \n",
       "78         0.010           0.10              20  \n",
       "79         0.010           0.10              50  \n",
       "80         0.010           0.10             100  \n",
       "\n",
       "[81 rows x 33 columns]"
      ]
     },
     "execution_count": 22,
     "metadata": {},
     "output_type": "execute_result"
    }
   ],
   "source": [
    "pd.DataFrame(gs.cv_results)"
   ]
  },
  {
   "cell_type": "markdown",
   "metadata": {},
   "source": [
    "### Best model according to the different evaluation metrics"
   ]
  },
  {
   "cell_type": "code",
   "execution_count": null,
   "metadata": {},
   "outputs": [
    {
     "name": "stdout",
     "output_type": "stream",
     "text": [
      "{'n_factors': 150, 'lr_all': 0.01, 'reg_all': 0.1, 'n_epochs': 100}\n"
     ]
    },
    {
     "data": {
      "text/plain": [
       "0.6846921730434321"
      ]
     },
     "execution_count": 23,
     "metadata": {},
     "output_type": "execute_result"
    }
   ],
   "source": [
    "# Best FCP parameters\n",
    "best_fcp_est = gs.best_estimator['fcp']\n",
    "print(gs.best_params['fcp'])\n",
    "gs.best_score['fcp']"
   ]
  },
  {
   "cell_type": "code",
   "execution_count": null,
   "metadata": {},
   "outputs": [
    {
     "name": "stdout",
     "output_type": "stream",
     "text": [
      "{'n_factors': 150, 'lr_all': 0.01, 'reg_all': 0.1, 'n_epochs': 100}\n"
     ]
    },
    {
     "data": {
      "text/plain": [
       "0.650350258594008"
      ]
     },
     "execution_count": 24,
     "metadata": {},
     "output_type": "execute_result"
    }
   ],
   "source": [
    "# Best MAE parameters\n",
    "best_mae_est = gs.best_estimator['mae']\n",
    "print(gs.best_params['mae'])\n",
    "gs.best_score['mae']"
   ]
  },
  {
   "cell_type": "code",
   "execution_count": null,
   "metadata": {},
   "outputs": [
    {
     "name": "stdout",
     "output_type": "stream",
     "text": [
      "{'n_factors': 150, 'lr_all': 0.005, 'reg_all': 0.1, 'n_epochs': 100}\n"
     ]
    },
    {
     "data": {
      "text/plain": [
       "0.8497407009989321"
      ]
     },
     "execution_count": 25,
     "metadata": {},
     "output_type": "execute_result"
    }
   ],
   "source": [
    "# Best RMSE parameters\n",
    "best_rmse_est = gs.best_estimator['rmse']\n",
    "print(gs.best_params['rmse'])\n",
    "gs.best_score['rmse']"
   ]
  },
  {
   "cell_type": "markdown",
   "metadata": {},
   "source": [
    "The only different parameter in the three above is that in the best RMSE model learning rate is 0.005 instead of 0.01. "
   ]
  },
  {
   "cell_type": "code",
   "execution_count": null,
   "metadata": {},
   "outputs": [],
   "source": []
  }
 ],
 "metadata": {
  "kernelspec": {
   "display_name": "learn-env",
   "language": "python",
   "name": "python3"
  },
  "language_info": {
   "codemirror_mode": {
    "name": "ipython",
    "version": 3
   },
   "file_extension": ".py",
   "mimetype": "text/x-python",
   "name": "python",
   "nbconvert_exporter": "python",
   "pygments_lexer": "ipython3",
   "version": "3.12.2"
  }
 },
 "nbformat": 4,
 "nbformat_minor": 2
}
